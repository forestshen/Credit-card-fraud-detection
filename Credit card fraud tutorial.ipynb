{
 "cells": [
  {
   "cell_type": "code",
   "execution_count": 1,
   "metadata": {
    "collapsed": false
   },
   "outputs": [
    {
     "name": "stdout",
     "output_type": "stream",
     "text": [
      "Populating the interactive namespace from numpy and matplotlib\n"
     ]
    }
   ],
   "source": [
    "import pandas as pd\n",
    "import numpy as np\n",
    "import seaborn as sns\n",
    "%pylab inline"
   ]
  },
  {
   "cell_type": "markdown",
   "metadata": {},
   "source": [
    "You can get the dataset here:\n",
    "    \n",
    "https://www.kaggle.com/mlg-ulb/creditcardfraud\n",
    "    \n",
    "It's too big for me to upload to github. You'll need a Kaggle account."
   ]
  },
  {
   "cell_type": "code",
   "execution_count": 2,
   "metadata": {
    "collapsed": true
   },
   "outputs": [],
   "source": [
    "data = pd.read_csv('creditcard.csv')\n",
    "\n",
    "# Un-comment this code if you have a slow computer\n",
    "# and want a smaller dataset.\n",
    "# (Should work fine but I can't guarantee it)\n",
    "\n",
    "# data = data.sample(25000)"
   ]
  },
  {
   "cell_type": "code",
   "execution_count": 3,
   "metadata": {
    "collapsed": false
   },
   "outputs": [
    {
     "data": {
      "text/plain": [
       "(284807, 31)"
      ]
     },
     "execution_count": 3,
     "metadata": {},
     "output_type": "execute_result"
    }
   ],
   "source": [
    "data.shape"
   ]
  },
  {
   "cell_type": "markdown",
   "metadata": {},
   "source": [
    "data.describe() isn't all that helpful in this dataset so I won't display it."
   ]
  },
  {
   "cell_type": "code",
   "execution_count": 4,
   "metadata": {
    "collapsed": false
   },
   "outputs": [
    {
     "data": {
      "text/plain": [
       "Index(['Time', 'V1', 'V2', 'V3', 'V4', 'V5', 'V6', 'V7', 'V8', 'V9', 'V10',\n",
       "       'V11', 'V12', 'V13', 'V14', 'V15', 'V16', 'V17', 'V18', 'V19', 'V20',\n",
       "       'V21', 'V22', 'V23', 'V24', 'V25', 'V26', 'V27', 'V28', 'Amount',\n",
       "       'Class'],\n",
       "      dtype='object')"
      ]
     },
     "execution_count": 4,
     "metadata": {},
     "output_type": "execute_result"
    }
   ],
   "source": [
    "data.columns"
   ]
  },
  {
   "cell_type": "code",
   "execution_count": 5,
   "metadata": {
    "collapsed": false
   },
   "outputs": [
    {
     "data": {
      "text/plain": [
       "0    0.998273\n",
       "1    0.001727\n",
       "Name: Class, dtype: float64"
      ]
     },
     "execution_count": 5,
     "metadata": {},
     "output_type": "execute_result"
    }
   ],
   "source": [
    "# normalize=True gives you percentages rather than counts\n",
    "data['Class'].value_counts(normalize=True)"
   ]
  },
  {
   "cell_type": "markdown",
   "metadata": {},
   "source": [
    "99.8% of our transactions are legitimate, and only 0.2% are fraudulent. HUGE class imbalance."
   ]
  },
  {
   "cell_type": "code",
   "execution_count": 6,
   "metadata": {
    "collapsed": false
   },
   "outputs": [
    {
     "data": {
      "text/plain": [
       "<matplotlib.axes._subplots.AxesSubplot at 0x269d6383748>"
      ]
     },
     "execution_count": 6,
     "metadata": {},
     "output_type": "execute_result"
    },
    {
     "data": {
      "image/png": "[encoded data removed]",
      "text/plain": [
       "<matplotlib.figure.Figure at 0x269d641da58>"
      ]
     },
     "metadata": {},
     "output_type": "display_data"
    }
   ],
   "source": [
    "data.Amount.hist(bins=30)"
   ]
  },
  {
   "cell_type": "markdown",
   "metadata": {},
   "source": [
    "The \"tail\" is realllllllllly long here, so let's just plot amounts less than $2000."
   ]
  },
  {
   "cell_type": "code",
   "execution_count": 7,
   "metadata": {
    "collapsed": false
   },
   "outputs": [
    {
     "data": {
      "text/plain": [
       "<matplotlib.axes._subplots.AxesSubplot at 0x269d641d9e8>"
      ]
     },
     "execution_count": 7,
     "metadata": {},
     "output_type": "execute_result"
    },
    {
     "data": {
      "image/png": "[encoded data removed]",
      "text/plain": [
       "<matplotlib.figure.Figure at 0x269d65b1d30>"
      ]
     },
     "metadata": {},
     "output_type": "display_data"
    }
   ],
   "source": [
    "data[data.Amount < 2000].Amount.hist(bins=30)"
   ]
  },
  {
   "cell_type": "markdown",
   "metadata": {},
   "source": [
    "The  \"time\" column is **seconds elapsed since the first transaction in the dataset**. The window is only 2 days in total.\n",
    "\n",
    "I don't think we can perform meaningful machine learning with the feature the way it currently is... but what if we use this to estimate the time of day the transaction took place?"
   ]
  },
  {
   "cell_type": "code",
   "execution_count": 8,
   "metadata": {
    "collapsed": false
   },
   "outputs": [],
   "source": [
    "# 3600 seconds in an hour\n",
    "hours = data.Time/3600\n",
    "data['hour'] = round(hours % 24, 0)\n",
    "\n",
    "# The float values screwed up our conversion a bit\n",
    "# so let's change 24 hours to 0 hours as it should be\n",
    "data['hour'] = np.where(data.hour == 24, 0.0, data.hour)\n",
    "# (\"Where the hour is 24, set it to 0.0, else keep the original value\")\n",
    "\n",
    "# Delete original time column\n",
    "del data['Time']"
   ]
  },
  {
   "cell_type": "markdown",
   "metadata": {},
   "source": [
    "Alright, let's see if this works..."
   ]
  },
  {
   "cell_type": "code",
   "execution_count": 9,
   "metadata": {
    "collapsed": false
   },
   "outputs": [
    {
     "data": {
      "text/plain": [
       "<matplotlib.axes._subplots.AxesSubplot at 0x269d6a64dd8>"
      ]
     },
     "execution_count": 9,
     "metadata": {},
     "output_type": "execute_result"
    },
    {
     "data": {
      "image/png": "[encoded data removed]",
      "text/plain": [
       "<matplotlib.figure.Figure at 0x269d6a64fd0>"
      ]
     },
     "metadata": {},
     "output_type": "display_data"
    }
   ],
   "source": [
    "data.groupby('hour')['Class'].mean().plot.bar(color='blue')"
   ]
  },
  {
   "cell_type": "markdown",
   "metadata": {},
   "source": [
    "Wow! I didn't think it'd work quite this well, but certain hours are much more suspicious than others! Just keep in mind that these don't represent actual hours, because we don't know when the original times are. 2 MIGHT be 2am, but it could also be 6am, 10pm, etc. We don't know."
   ]
  },
  {
   "cell_type": "markdown",
   "metadata": {},
   "source": [
    "# Machine learning"
   ]
  },
  {
   "cell_type": "code",
   "execution_count": 10,
   "metadata": {
    "collapsed": true
   },
   "outputs": [],
   "source": [
    "x = data.drop('Class', axis=1)\n",
    "y = data['Class']"
   ]
  },
  {
   "cell_type": "code",
   "execution_count": 11,
   "metadata": {
    "collapsed": false
   },
   "outputs": [],
   "source": [
    "from sklearn.model_selection import train_test_split\n",
    "\n",
    "# Since our dataset is so big, we can get away with only using 10%\n",
    "# of our data for testing. This assumes you didn't shrink the dataset.\n",
    "# If you did, increase the test size to 0.2 or so.\n",
    "xtrain, xtest, ytrain, ytest = train_test_split(x, y, test_size=.1)"
   ]
  },
  {
   "cell_type": "code",
   "execution_count": 12,
   "metadata": {
    "collapsed": true
   },
   "outputs": [],
   "source": [
    "from sklearn.model_selection import StratifiedKFold\n",
    "\n",
    "kf = StratifiedKFold(n_splits=5)"
   ]
  },
  {
   "cell_type": "markdown",
   "metadata": {},
   "source": [
    "Recall that k-fold is a way of splitting up your training data such that every data point in your set is tested on at least once. Since you want to -- both in theory and in practice -- maximize the size of both your training and testing sets, k-fold is a brilliant solution to the problem!\n",
    "\n",
    "`StratifiedKFold` is used exclusively for classification problems. You'll get an error if you try using it for regression. It splits up your data such that each \"fold\" has roughly the same class distribution. So, just like in our original dataframe, each fold will have about 99.8% legitimate and 0.2% fraudulent transations.\n",
    "\n",
    "StratifiedKFold is especially useful because you might otherwise end up with folds that have NO fraudulent transactions. And then you can't perform machine learning on them. And you'll get an error.\n",
    "\n",
    "So you should pretty much always use StratifiedKFold when you're dealing with imbalanced classes."
   ]
  },
  {
   "cell_type": "code",
   "execution_count": 45,
   "metadata": {
    "collapsed": false
   },
   "outputs": [
    {
     "name": "stdout",
     "output_type": "stream",
     "text": [
      "LOGISTIC REGRESSION\n",
      "*******************\n",
      "Mean score: 0.9732244531651382\n",
      "Std dev: 0.008595641399341016\n"
     ]
    }
   ],
   "source": [
    "from sklearn.linear_model import LogisticRegression\n",
    "from sklearn.model_selection import cross_val_score, StratifiedKFold\n",
    "\n",
    "lr = LogisticRegression()\n",
    "\n",
    "cvs = cross_val_score(lr, xtrain, ytrain, cv=kf, scoring='roc_auc')\n",
    "\n",
    "print('LOGISTIC REGRESSION')\n",
    "print('*******************')\n",
    "print('Mean score:', cvs.mean())\n",
    "print('Std dev:', cvs.std())"
   ]
  },
  {
   "cell_type": "markdown",
   "metadata": {},
   "source": [
    "Because the \"Amount\" column had such a long tail -- what we call a \"power-law\" distribution, we really should transform it and take the log before performing a logistic regression.\n",
    "\n",
    "`np.log1p` calculates the log of 1 plus the value. This is useful because the log of zero is undefined and you'll get an error if there are any zeroes in your column."
   ]
  },
  {
   "cell_type": "code",
   "execution_count": 122,
   "metadata": {
    "collapsed": true
   },
   "outputs": [],
   "source": [
    "xtrain_log = xtrain.copy()\n",
    "\n",
    "xtrain_log['Amount'] = np.log1p(xtrain_log['Amount'])"
   ]
  },
  {
   "cell_type": "code",
   "execution_count": 123,
   "metadata": {
    "collapsed": false
   },
   "outputs": [
    {
     "data": {
      "text/plain": [
       "<matplotlib.axes._subplots.AxesSubplot at 0x1ef6ca2d6d8>"
      ]
     },
     "execution_count": 123,
     "metadata": {},
     "output_type": "execute_result"
    },
    {
     "data": {
      "image/png": "[encoded data removed]",
      "text/plain": [
       "<matplotlib.figure.Figure at 0x1ef6ca33b38>"
      ]
     },
     "metadata": {},
     "output_type": "display_data"
    }
   ],
   "source": [
    "# Check this out -- it's almost normally distributed now!\n",
    "xtrain_log['Amount'].hist()"
   ]
  },
  {
   "cell_type": "code",
   "execution_count": 121,
   "metadata": {
    "collapsed": false
   },
   "outputs": [
    {
     "name": "stdout",
     "output_type": "stream",
     "text": [
      "LOGISTIC REGRESSION\n",
      "*******************\n",
      "Mean score: 0.9721580531569789\n",
      "Std dev: 0.008465409545492852\n"
     ]
    }
   ],
   "source": [
    "cvs = cross_val_score(lr, xtrain_log, ytrain, cv=kf, scoring='roc_auc')\n",
    "\n",
    "print('LOGISTIC REGRESSION')\n",
    "print('*******************')\n",
    "print('Mean score:', cvs.mean())\n",
    "print('Std dev:', cvs.std())"
   ]
  },
  {
   "cell_type": "markdown",
   "metadata": {},
   "source": [
    "Turns out log-amount doesn't really matter in this model, but it's still a tool I wanted to show you."
   ]
  },
  {
   "cell_type": "code",
   "execution_count": 46,
   "metadata": {
    "collapsed": false
   },
   "outputs": [
    {
     "name": "stdout",
     "output_type": "stream",
     "text": [
      "K-NEAREST NEIGHBORS\n",
      "*******************\n",
      "Mean score: 0.8660442733717343\n",
      "Std dev: 0.02565677635496694\n"
     ]
    }
   ],
   "source": [
    "from sklearn.neighbors import KNeighborsClassifier\n",
    "\n",
    "knn = KNeighborsClassifier()\n",
    "\n",
    "cvs = cross_val_score(knn, xtrain, ytrain, cv=kf, scoring='roc_auc')\n",
    "\n",
    "print('K-NEAREST NEIGHBORS')\n",
    "print('*******************')\n",
    "print('Mean score:', cvs.mean())\n",
    "print('Std dev:', cvs.std())"
   ]
  },
  {
   "cell_type": "code",
   "execution_count": 47,
   "metadata": {
    "collapsed": false
   },
   "outputs": [
    {
     "name": "stdout",
     "output_type": "stream",
     "text": [
      "DECISION TREE\n",
      "*************\n",
      "Mean score: 0.8784663235805041\n",
      "Std dev: 0.02389989504820404\n"
     ]
    }
   ],
   "source": [
    "from sklearn.tree import DecisionTreeClassifier\n",
    "\n",
    "tr = DecisionTreeClassifier()\n",
    "\n",
    "cvs = cross_val_score(tr, xtrain, ytrain, cv=kf, scoring='roc_auc')\n",
    "\n",
    "print('DECISION TREE')\n",
    "print('*************')\n",
    "print('Mean score:', cvs.mean())\n",
    "print('Std dev:', cvs.std())"
   ]
  },
  {
   "cell_type": "markdown",
   "metadata": {},
   "source": [
    "# Grid Search\n",
    "\n",
    "Grid search is the process of testing different settings (\"hyperparameters\") until it discovers the combination that works best. In real-world machine learning problems, you usually won't have to directly consider things like bias/variance, over-/underfitting, etc. `GridSearchCV` takes care of all of this for you.\n",
    "\n",
    "Our logistic regression is currently doing the best, but I want to show you how grid search works using a decision tree's hyperparameters."
   ]
  },
  {
   "cell_type": "code",
   "execution_count": 48,
   "metadata": {
    "collapsed": false
   },
   "outputs": [
    {
     "data": {
      "text/plain": [
       "DecisionTreeClassifier(class_weight=None, criterion='gini', max_depth=9,\n",
       "            max_features=None, max_leaf_nodes=None,\n",
       "            min_impurity_decrease=0.0, min_impurity_split=None,\n",
       "            min_samples_leaf=5, min_samples_split=20,\n",
       "            min_weight_fraction_leaf=0.0, presort=False, random_state=None,\n",
       "            splitter='best')"
      ]
     },
     "execution_count": 48,
     "metadata": {},
     "output_type": "execute_result"
    }
   ],
   "source": [
    "from sklearn.model_selection import GridSearchCV\n",
    "\n",
    "# Using 3 splits because it's soooo slow\n",
    "kf3 = StratifiedKFold(n_splits=3)\n",
    "\n",
    "param_grid = {\n",
    "    'max_depth': [3, 9],\n",
    "    'min_samples_leaf': [1,5],\n",
    "    'min_samples_split': [2,10,20],\n",
    "}\n",
    "\n",
    "grid = GridSearchCV(tr, param_grid=param_grid, cv=kf3, scoring='roc_auc').fit(xtrain, ytrain)\n",
    "\n",
    "clf = grid.best_estimator_\n",
    "\n",
    "clf"
   ]
  },
  {
   "cell_type": "code",
   "execution_count": 49,
   "metadata": {
    "collapsed": false
   },
   "outputs": [
    {
     "name": "stdout",
     "output_type": "stream",
     "text": [
      "GRID SEARCH 1\n",
      "*************\n",
      "Mean score: 0.8957454528569088\n",
      "Std dev: 0.026258263722951983\n"
     ]
    }
   ],
   "source": [
    "cvs = cross_val_score(clf, xtrain, ytrain, cv=kf, scoring='roc_auc')\n",
    "\n",
    "print('GRID SEARCH 1')\n",
    "print('*************')\n",
    "print('Mean score:', cvs.mean())\n",
    "print('Std dev:', cvs.std())"
   ]
  },
  {
   "cell_type": "markdown",
   "metadata": {},
   "source": [
    "Always remember that the number of combinations *explodes* as you add more options to your parameter grid. Even under the best of circumstances, a grid search is going to take a couple of minutes to run.\n",
    "\n",
    "There's no way around this, but I'll remind you of the compromise I settle on. I run successive grid searches and make continuous adjustments until the performance stabilizes.\n",
    "\n",
    "By doing this, you'll arrive at a \"local maximum\" -- a machine learning model that's the best out of the dozen(s) you've tested, but not necessarily the best model possible. In fact, it's probably not. But that's a unicorn you'll never find."
   ]
  },
  {
   "cell_type": "code",
   "execution_count": 50,
   "metadata": {
    "collapsed": false
   },
   "outputs": [
    {
     "data": {
      "text/plain": [
       "DecisionTreeClassifier(class_weight=None, criterion='gini', max_depth=9,\n",
       "            max_features=None, max_leaf_nodes=None,\n",
       "            min_impurity_decrease=0.0, min_impurity_split=None,\n",
       "            min_samples_leaf=10, min_samples_split=50,\n",
       "            min_weight_fraction_leaf=0.0, presort=False, random_state=None,\n",
       "            splitter='best')"
      ]
     },
     "execution_count": 50,
     "metadata": {},
     "output_type": "execute_result"
    }
   ],
   "source": [
    "from sklearn.model_selection import GridSearchCV\n",
    "\n",
    "# Using 3 splits because it's soooo slow\n",
    "kf3 = StratifiedKFold(n_splits=3)\n",
    "\n",
    "param_grid = {\n",
    "    'max_depth': [7, 9, 12],\n",
    "    'min_samples_leaf': [5, 10,20],\n",
    "    'min_samples_split': [20, 30, 50],\n",
    "}\n",
    "\n",
    "grid = GridSearchCV(tr, param_grid=param_grid, cv=kf3, scoring='roc_auc').fit(xtrain, ytrain)\n",
    "\n",
    "clf = grid.best_estimator_\n",
    "\n",
    "clf"
   ]
  },
  {
   "cell_type": "code",
   "execution_count": 51,
   "metadata": {
    "collapsed": false
   },
   "outputs": [
    {
     "name": "stdout",
     "output_type": "stream",
     "text": [
      "GRID SEARCH 2\n",
      "*************\n",
      "Mean score: 0.921757168979705\n",
      "Std dev: 0.019072686450269768\n"
     ]
    }
   ],
   "source": [
    "cvs = cross_val_score(clf, xtrain, ytrain, cv=kf, scoring='roc_auc')\n",
    "\n",
    "print('GRID SEARCH 2')\n",
    "print('*************')\n",
    "print('Mean score:', cvs.mean())\n",
    "print('Std dev:', cvs.std())"
   ]
  },
  {
   "cell_type": "code",
   "execution_count": 52,
   "metadata": {
    "collapsed": false
   },
   "outputs": [
    {
     "data": {
      "text/plain": [
       "DecisionTreeClassifier(class_weight=None, criterion='gini', max_depth=10,\n",
       "            max_features=None, max_leaf_nodes=None,\n",
       "            min_impurity_decrease=0.0, min_impurity_split=None,\n",
       "            min_samples_leaf=10, min_samples_split=50,\n",
       "            min_weight_fraction_leaf=0.0, presort=False, random_state=None,\n",
       "            splitter='best')"
      ]
     },
     "execution_count": 52,
     "metadata": {},
     "output_type": "execute_result"
    }
   ],
   "source": [
    "from sklearn.model_selection import GridSearchCV\n",
    "\n",
    "# Using 3 splits because it's soooo slow\n",
    "kf3 = StratifiedKFold(n_splits=3)\n",
    "\n",
    "param_grid = {\n",
    "    'max_depth': [8, 9, 10],\n",
    "    'min_samples_leaf': [10],\n",
    "    'min_samples_split': [50, 100],\n",
    "}\n",
    "\n",
    "grid = GridSearchCV(tr, param_grid=param_grid, cv=kf3, scoring='roc_auc').fit(xtrain, ytrain)\n",
    "\n",
    "clf = grid.best_estimator_\n",
    "\n",
    "clf"
   ]
  },
  {
   "cell_type": "code",
   "execution_count": 53,
   "metadata": {
    "collapsed": false
   },
   "outputs": [
    {
     "name": "stdout",
     "output_type": "stream",
     "text": [
      "GRID SEARCH 3\n",
      "*************\n",
      "Mean score: 0.9304998596570939\n",
      "Std dev: 0.020899571629115394\n"
     ]
    }
   ],
   "source": [
    "cvs = cross_val_score(clf, xtrain, ytrain, cv=kf, scoring='roc_auc')\n",
    "\n",
    "print('GRID SEARCH 3')\n",
    "print('*************')\n",
    "print('Mean score:', cvs.mean())\n",
    "print('Std dev:', cvs.std())"
   ]
  },
  {
   "cell_type": "code",
   "execution_count": 54,
   "metadata": {
    "collapsed": false
   },
   "outputs": [
    {
     "data": {
      "text/plain": [
       "DecisionTreeClassifier(class_weight=None, criterion='gini', max_depth=10,\n",
       "            max_features=None, max_leaf_nodes=None,\n",
       "            min_impurity_decrease=0.0, min_impurity_split=None,\n",
       "            min_samples_leaf=10, min_samples_split=50,\n",
       "            min_weight_fraction_leaf=0.0, presort=False, random_state=None,\n",
       "            splitter='best')"
      ]
     },
     "execution_count": 54,
     "metadata": {},
     "output_type": "execute_result"
    }
   ],
   "source": [
    "from sklearn.model_selection import GridSearchCV\n",
    "\n",
    "# Using 3 splits because it's soooo slow\n",
    "kf3 = StratifiedKFold(n_splits=3)\n",
    "\n",
    "param_grid = {\n",
    "    'max_depth': [10,11],\n",
    "    'min_samples_leaf': [10],\n",
    "    'min_samples_split': [40, 50, 60],\n",
    "}\n",
    "\n",
    "grid = GridSearchCV(tr, param_grid=param_grid, cv=kf3, scoring='roc_auc').fit(xtrain, ytrain)\n",
    "\n",
    "clf = grid.best_estimator_\n",
    "\n",
    "clf"
   ]
  },
  {
   "cell_type": "code",
   "execution_count": 55,
   "metadata": {
    "collapsed": false
   },
   "outputs": [
    {
     "name": "stdout",
     "output_type": "stream",
     "text": [
      "GRID SEARCH 4\n",
      "*************\n",
      "Mean score: 0.9282307073212612\n",
      "Std dev: 0.024700063617366246\n"
     ]
    }
   ],
   "source": [
    "cvs = cross_val_score(clf, xtrain, ytrain, cv=kf, scoring='roc_auc')\n",
    "\n",
    "print('GRID SEARCH 4')\n",
    "print('*************')\n",
    "print('Mean score:', cvs.mean())\n",
    "print('Std dev:', cvs.std())"
   ]
  },
  {
   "cell_type": "markdown",
   "metadata": {},
   "source": [
    "It looks like we've settled on a good set of hyperparameters. Let's look at why I like ROC-AUC as a metric and perform a final evaluation of our model.\n",
    "\n",
    "When working on a classification problem, your model can output the **probabilities** of each data point being a certain class. Watch this:"
   ]
  },
  {
   "cell_type": "code",
   "execution_count": 56,
   "metadata": {
    "collapsed": false
   },
   "outputs": [
    {
     "data": {
      "text/plain": [
       "array([[9.99917011e-01, 8.29886393e-05],\n",
       "       [9.99917011e-01, 8.29886393e-05],\n",
       "       [9.99917011e-01, 8.29886393e-05],\n",
       "       ...,\n",
       "       [9.99917011e-01, 8.29886393e-05],\n",
       "       [9.99917011e-01, 8.29886393e-05],\n",
       "       [9.99917011e-01, 8.29886393e-05]])"
      ]
     },
     "execution_count": 56,
     "metadata": {},
     "output_type": "execute_result"
    }
   ],
   "source": [
    "preds = clf.predict_proba(xtrain)\n",
    "\n",
    "preds"
   ]
  },
  {
   "cell_type": "markdown",
   "metadata": {},
   "source": [
    "Each of those rows represents the probabilities across the different classes we have -- in this case \"0\" for legitimate and \"1\" for fraudulent (in that order). And, in these situations we're most interested in the **probability of fraud**. So let's change preds to represent the 2nd number in each row:"
   ]
  },
  {
   "cell_type": "code",
   "execution_count": 57,
   "metadata": {
    "collapsed": true
   },
   "outputs": [],
   "source": [
    "# All rows, index 1\n",
    "preds = preds[:, 1]"
   ]
  },
  {
   "cell_type": "code",
   "execution_count": 65,
   "metadata": {
    "collapsed": false
   },
   "outputs": [
    {
     "data": {
      "text/plain": [
       "0.000083    228947\n",
       "0.000808     12381\n",
       "0.001194      8373\n",
       "0.000823      3644\n",
       "0.002375      1263\n",
       "0.000000       775\n",
       "0.010563       284\n",
       "1.000000       197\n",
       "0.224490        49\n",
       "0.693878        49\n",
       "0.111111        45\n",
       "0.100000        40\n",
       "0.057143        35\n",
       "0.941176        34\n",
       "0.821429        28\n",
       "0.925926        27\n",
       "0.200000        20\n",
       "0.421053        19\n",
       "0.058824        17\n",
       "0.529412        17\n",
       "0.800000        15\n",
       "0.571429        14\n",
       "0.272727        11\n",
       "0.181818        11\n",
       "0.090909        11\n",
       "0.900000        10\n",
       "0.300000        10\n",
       "dtype: int64"
      ]
     },
     "execution_count": 65,
     "metadata": {},
     "output_type": "execute_result"
    }
   ],
   "source": [
    "# And now we have...\n",
    "pd.Series(preds).value_counts()"
   ]
  },
  {
   "cell_type": "markdown",
   "metadata": {},
   "source": [
    "The vast majority of our predictions are essentially zero -- which is good, because any given transaction only has a prior probability of 0.2% that it's fraudulent.\n",
    "\n",
    "So now let's take a look at ROC-AUC and why I like it in conjunction with `pred_proba`."
   ]
  },
  {
   "cell_type": "code",
   "execution_count": 110,
   "metadata": {
    "collapsed": false
   },
   "outputs": [
    {
     "data": {
      "image/png": "[encoded data removed]",
      "text/plain": [
       "<matplotlib.figure.Figure at 0x1ef61211ba8>"
      ]
     },
     "metadata": {},
     "output_type": "display_data"
    }
   ],
   "source": [
    "# Don't worry about the code here\n",
    "# I just wanted to draw this graph!\n",
    "\n",
    "import matplotlib.pyplot as plt\n",
    "\n",
    "plt.xlabel(\"Percent of data points examined\")\n",
    "plt.ylabel(\"Percent of fraud found\")\n",
    "plt.title('Finding fraud by chance')\n",
    "\n",
    "df = pd.DataFrame()\n",
    "df['x'] = np.arange(100)\n",
    "df['y'] = np.arange(100)\n",
    "\n",
    "\n",
    "df['x'].plot();"
   ]
  },
  {
   "cell_type": "markdown",
   "metadata": {},
   "source": [
    "Really examine this and think about what I mean by it.\n",
    "\n",
    "If you just examined each data point (in random order) and called it fraud, your fraud identification rate would be this straight line. You'd just find them at the rate of chance.\n",
    "\n",
    "What ROC-AUC is essentially doing, is examining the most likely fraud cases first, and working its way down the list.\n",
    "\n",
    "Another way to think of this is that with each data point you examine, you're moving right on the graph. Your goal is to move **up** at the same time as rapidly as possible, and you do this by finding fraudulent transactions.\n",
    "\n",
    "Let me show you a preview of where I'm going with this, and then we'll do it for real."
   ]
  },
  {
   "cell_type": "code",
   "execution_count": 79,
   "metadata": {
    "collapsed": false
   },
   "outputs": [
    {
     "data": {
      "text/html": [
       "<div>\n",
       "<style scoped>\n",
       "    .dataframe tbody tr th:only-of-type {\n",
       "        vertical-align: middle;\n",
       "    }\n",
       "\n",
       "    .dataframe tbody tr th {\n",
       "        vertical-align: top;\n",
       "    }\n",
       "\n",
       "    .dataframe thead th {\n",
       "        text-align: right;\n",
       "    }\n",
       "</style>\n",
       "<table border=\"1\" class=\"dataframe\">\n",
       "  <thead>\n",
       "    <tr style=\"text-align: right;\">\n",
       "      <th></th>\n",
       "      <th>fraud</th>\n",
       "      <th>prediction</th>\n",
       "    </tr>\n",
       "  </thead>\n",
       "  <tbody>\n",
       "    <tr>\n",
       "      <th>235818</th>\n",
       "      <td>1</td>\n",
       "      <td>1.0</td>\n",
       "    </tr>\n",
       "    <tr>\n",
       "      <th>21765</th>\n",
       "      <td>1</td>\n",
       "      <td>1.0</td>\n",
       "    </tr>\n",
       "    <tr>\n",
       "      <th>49735</th>\n",
       "      <td>1</td>\n",
       "      <td>1.0</td>\n",
       "    </tr>\n",
       "    <tr>\n",
       "      <th>34395</th>\n",
       "      <td>1</td>\n",
       "      <td>1.0</td>\n",
       "    </tr>\n",
       "    <tr>\n",
       "      <th>44372</th>\n",
       "      <td>1</td>\n",
       "      <td>1.0</td>\n",
       "    </tr>\n",
       "    <tr>\n",
       "      <th>18784</th>\n",
       "      <td>1</td>\n",
       "      <td>1.0</td>\n",
       "    </tr>\n",
       "    <tr>\n",
       "      <th>10122</th>\n",
       "      <td>1</td>\n",
       "      <td>1.0</td>\n",
       "    </tr>\n",
       "    <tr>\n",
       "      <th>169658</th>\n",
       "      <td>1</td>\n",
       "      <td>1.0</td>\n",
       "    </tr>\n",
       "    <tr>\n",
       "      <th>155382</th>\n",
       "      <td>1</td>\n",
       "      <td>1.0</td>\n",
       "    </tr>\n",
       "    <tr>\n",
       "      <th>104598</th>\n",
       "      <td>1</td>\n",
       "      <td>1.0</td>\n",
       "    </tr>\n",
       "  </tbody>\n",
       "</table>\n",
       "</div>"
      ],
      "text/plain": [
       "        fraud  prediction\n",
       "235818      1         1.0\n",
       "21765       1         1.0\n",
       "49735       1         1.0\n",
       "34395       1         1.0\n",
       "44372       1         1.0\n",
       "18784       1         1.0\n",
       "10122       1         1.0\n",
       "169658      1         1.0\n",
       "155382      1         1.0\n",
       "104598      1         1.0"
      ]
     },
     "execution_count": 79,
     "metadata": {},
     "output_type": "execute_result"
    }
   ],
   "source": [
    "# Sometimes pandas doesn't properly read a numpy array\n",
    "# and you get NaNs instead. So I fixed this by casting\n",
    "# ytrain to a list.\n",
    "df = pd.DataFrame(list(ytrain), columns=['fraud'])\n",
    "df['prediction'] = pd.Series(preds)\n",
    "\n",
    "# Was a transaction fraudulent, and what did our model predict:\n",
    "df.sort_values('prediction', ascending=False).head(10)"
   ]
  },
  {
   "cell_type": "code",
   "execution_count": 81,
   "metadata": {
    "collapsed": false
   },
   "outputs": [
    {
     "data": {
      "text/html": [
       "<div>\n",
       "<style scoped>\n",
       "    .dataframe tbody tr th:only-of-type {\n",
       "        vertical-align: middle;\n",
       "    }\n",
       "\n",
       "    .dataframe tbody tr th {\n",
       "        vertical-align: top;\n",
       "    }\n",
       "\n",
       "    .dataframe thead th {\n",
       "        text-align: right;\n",
       "    }\n",
       "</style>\n",
       "<table border=\"1\" class=\"dataframe\">\n",
       "  <thead>\n",
       "    <tr style=\"text-align: right;\">\n",
       "      <th></th>\n",
       "      <th>fraud</th>\n",
       "      <th>prediction</th>\n",
       "    </tr>\n",
       "  </thead>\n",
       "  <tbody>\n",
       "    <tr>\n",
       "      <th>114719</th>\n",
       "      <td>0</td>\n",
       "      <td>0.0</td>\n",
       "    </tr>\n",
       "    <tr>\n",
       "      <th>131595</th>\n",
       "      <td>0</td>\n",
       "      <td>0.0</td>\n",
       "    </tr>\n",
       "    <tr>\n",
       "      <th>168326</th>\n",
       "      <td>0</td>\n",
       "      <td>0.0</td>\n",
       "    </tr>\n",
       "    <tr>\n",
       "      <th>37305</th>\n",
       "      <td>0</td>\n",
       "      <td>0.0</td>\n",
       "    </tr>\n",
       "    <tr>\n",
       "      <th>47512</th>\n",
       "      <td>0</td>\n",
       "      <td>0.0</td>\n",
       "    </tr>\n",
       "    <tr>\n",
       "      <th>104355</th>\n",
       "      <td>0</td>\n",
       "      <td>0.0</td>\n",
       "    </tr>\n",
       "    <tr>\n",
       "      <th>47498</th>\n",
       "      <td>0</td>\n",
       "      <td>0.0</td>\n",
       "    </tr>\n",
       "    <tr>\n",
       "      <th>213580</th>\n",
       "      <td>0</td>\n",
       "      <td>0.0</td>\n",
       "    </tr>\n",
       "    <tr>\n",
       "      <th>70984</th>\n",
       "      <td>0</td>\n",
       "      <td>0.0</td>\n",
       "    </tr>\n",
       "    <tr>\n",
       "      <th>221867</th>\n",
       "      <td>0</td>\n",
       "      <td>0.0</td>\n",
       "    </tr>\n",
       "  </tbody>\n",
       "</table>\n",
       "</div>"
      ],
      "text/plain": [
       "        fraud  prediction\n",
       "114719      0         0.0\n",
       "131595      0         0.0\n",
       "168326      0         0.0\n",
       "37305       0         0.0\n",
       "47512       0         0.0\n",
       "104355      0         0.0\n",
       "47498       0         0.0\n",
       "213580      0         0.0\n",
       "70984       0         0.0\n",
       "221867      0         0.0"
      ]
     },
     "execution_count": 81,
     "metadata": {},
     "output_type": "execute_result"
    }
   ],
   "source": [
    "df.sort_values('prediction', ascending=False).tail(10)"
   ]
  },
  {
   "cell_type": "markdown",
   "metadata": {},
   "source": [
    "You can already see how good our model fit the training data. It doesn't seem to make mistakes when it predicts a 1.0 or a 0.0.\n",
    "\n",
    "So now let's build our curve."
   ]
  },
  {
   "cell_type": "code",
   "execution_count": 84,
   "metadata": {
    "collapsed": true
   },
   "outputs": [],
   "source": [
    "df = df.sort_values('prediction', ascending=False)\n",
    "\n",
    "# \"Cumulative sum\" -- it's keeping a running\n",
    "# count (or should I say sum) of the fraud column.\n",
    "df['fraud_count'] = np.cumsum(df['fraud'])"
   ]
  },
  {
   "cell_type": "code",
   "execution_count": 86,
   "metadata": {
    "collapsed": false
   },
   "outputs": [
    {
     "data": {
      "text/html": [
       "<div>\n",
       "<style scoped>\n",
       "    .dataframe tbody tr th:only-of-type {\n",
       "        vertical-align: middle;\n",
       "    }\n",
       "\n",
       "    .dataframe tbody tr th {\n",
       "        vertical-align: top;\n",
       "    }\n",
       "\n",
       "    .dataframe thead th {\n",
       "        text-align: right;\n",
       "    }\n",
       "</style>\n",
       "<table border=\"1\" class=\"dataframe\">\n",
       "  <thead>\n",
       "    <tr style=\"text-align: right;\">\n",
       "      <th></th>\n",
       "      <th>fraud</th>\n",
       "      <th>prediction</th>\n",
       "      <th>fraud_count</th>\n",
       "      <th>fraud_pct_found</th>\n",
       "    </tr>\n",
       "  </thead>\n",
       "  <tbody>\n",
       "    <tr>\n",
       "      <th>235818</th>\n",
       "      <td>1</td>\n",
       "      <td>1.0</td>\n",
       "      <td>1</td>\n",
       "      <td>0.002268</td>\n",
       "    </tr>\n",
       "    <tr>\n",
       "      <th>21765</th>\n",
       "      <td>1</td>\n",
       "      <td>1.0</td>\n",
       "      <td>2</td>\n",
       "      <td>0.004535</td>\n",
       "    </tr>\n",
       "    <tr>\n",
       "      <th>49735</th>\n",
       "      <td>1</td>\n",
       "      <td>1.0</td>\n",
       "      <td>3</td>\n",
       "      <td>0.006803</td>\n",
       "    </tr>\n",
       "    <tr>\n",
       "      <th>34395</th>\n",
       "      <td>1</td>\n",
       "      <td>1.0</td>\n",
       "      <td>4</td>\n",
       "      <td>0.009070</td>\n",
       "    </tr>\n",
       "    <tr>\n",
       "      <th>44372</th>\n",
       "      <td>1</td>\n",
       "      <td>1.0</td>\n",
       "      <td>5</td>\n",
       "      <td>0.011338</td>\n",
       "    </tr>\n",
       "    <tr>\n",
       "      <th>18784</th>\n",
       "      <td>1</td>\n",
       "      <td>1.0</td>\n",
       "      <td>6</td>\n",
       "      <td>0.013605</td>\n",
       "    </tr>\n",
       "    <tr>\n",
       "      <th>10122</th>\n",
       "      <td>1</td>\n",
       "      <td>1.0</td>\n",
       "      <td>7</td>\n",
       "      <td>0.015873</td>\n",
       "    </tr>\n",
       "    <tr>\n",
       "      <th>169658</th>\n",
       "      <td>1</td>\n",
       "      <td>1.0</td>\n",
       "      <td>8</td>\n",
       "      <td>0.018141</td>\n",
       "    </tr>\n",
       "    <tr>\n",
       "      <th>155382</th>\n",
       "      <td>1</td>\n",
       "      <td>1.0</td>\n",
       "      <td>9</td>\n",
       "      <td>0.020408</td>\n",
       "    </tr>\n",
       "    <tr>\n",
       "      <th>104598</th>\n",
       "      <td>1</td>\n",
       "      <td>1.0</td>\n",
       "      <td>10</td>\n",
       "      <td>0.022676</td>\n",
       "    </tr>\n",
       "    <tr>\n",
       "      <th>143561</th>\n",
       "      <td>1</td>\n",
       "      <td>1.0</td>\n",
       "      <td>11</td>\n",
       "      <td>0.024943</td>\n",
       "    </tr>\n",
       "    <tr>\n",
       "      <th>176252</th>\n",
       "      <td>1</td>\n",
       "      <td>1.0</td>\n",
       "      <td>12</td>\n",
       "      <td>0.027211</td>\n",
       "    </tr>\n",
       "    <tr>\n",
       "      <th>172511</th>\n",
       "      <td>1</td>\n",
       "      <td>1.0</td>\n",
       "      <td>13</td>\n",
       "      <td>0.029478</td>\n",
       "    </tr>\n",
       "    <tr>\n",
       "      <th>214770</th>\n",
       "      <td>1</td>\n",
       "      <td>1.0</td>\n",
       "      <td>14</td>\n",
       "      <td>0.031746</td>\n",
       "    </tr>\n",
       "    <tr>\n",
       "      <th>184339</th>\n",
       "      <td>1</td>\n",
       "      <td>1.0</td>\n",
       "      <td>15</td>\n",
       "      <td>0.034014</td>\n",
       "    </tr>\n",
       "    <tr>\n",
       "      <th>138409</th>\n",
       "      <td>1</td>\n",
       "      <td>1.0</td>\n",
       "      <td>16</td>\n",
       "      <td>0.036281</td>\n",
       "    </tr>\n",
       "    <tr>\n",
       "      <th>202258</th>\n",
       "      <td>1</td>\n",
       "      <td>1.0</td>\n",
       "      <td>17</td>\n",
       "      <td>0.038549</td>\n",
       "    </tr>\n",
       "    <tr>\n",
       "      <th>209494</th>\n",
       "      <td>1</td>\n",
       "      <td>1.0</td>\n",
       "      <td>18</td>\n",
       "      <td>0.040816</td>\n",
       "    </tr>\n",
       "    <tr>\n",
       "      <th>221835</th>\n",
       "      <td>1</td>\n",
       "      <td>1.0</td>\n",
       "      <td>19</td>\n",
       "      <td>0.043084</td>\n",
       "    </tr>\n",
       "    <tr>\n",
       "      <th>75708</th>\n",
       "      <td>1</td>\n",
       "      <td>1.0</td>\n",
       "      <td>20</td>\n",
       "      <td>0.045351</td>\n",
       "    </tr>\n",
       "    <tr>\n",
       "      <th>240847</th>\n",
       "      <td>1</td>\n",
       "      <td>1.0</td>\n",
       "      <td>21</td>\n",
       "      <td>0.047619</td>\n",
       "    </tr>\n",
       "    <tr>\n",
       "      <th>118043</th>\n",
       "      <td>1</td>\n",
       "      <td>1.0</td>\n",
       "      <td>22</td>\n",
       "      <td>0.049887</td>\n",
       "    </tr>\n",
       "    <tr>\n",
       "      <th>106287</th>\n",
       "      <td>1</td>\n",
       "      <td>1.0</td>\n",
       "      <td>23</td>\n",
       "      <td>0.052154</td>\n",
       "    </tr>\n",
       "    <tr>\n",
       "      <th>159158</th>\n",
       "      <td>1</td>\n",
       "      <td>1.0</td>\n",
       "      <td>24</td>\n",
       "      <td>0.054422</td>\n",
       "    </tr>\n",
       "    <tr>\n",
       "      <th>229576</th>\n",
       "      <td>1</td>\n",
       "      <td>1.0</td>\n",
       "      <td>25</td>\n",
       "      <td>0.056689</td>\n",
       "    </tr>\n",
       "    <tr>\n",
       "      <th>179466</th>\n",
       "      <td>1</td>\n",
       "      <td>1.0</td>\n",
       "      <td>26</td>\n",
       "      <td>0.058957</td>\n",
       "    </tr>\n",
       "    <tr>\n",
       "      <th>98143</th>\n",
       "      <td>1</td>\n",
       "      <td>1.0</td>\n",
       "      <td>27</td>\n",
       "      <td>0.061224</td>\n",
       "    </tr>\n",
       "    <tr>\n",
       "      <th>37495</th>\n",
       "      <td>1</td>\n",
       "      <td>1.0</td>\n",
       "      <td>28</td>\n",
       "      <td>0.063492</td>\n",
       "    </tr>\n",
       "    <tr>\n",
       "      <th>223114</th>\n",
       "      <td>1</td>\n",
       "      <td>1.0</td>\n",
       "      <td>29</td>\n",
       "      <td>0.065760</td>\n",
       "    </tr>\n",
       "    <tr>\n",
       "      <th>61581</th>\n",
       "      <td>1</td>\n",
       "      <td>1.0</td>\n",
       "      <td>30</td>\n",
       "      <td>0.068027</td>\n",
       "    </tr>\n",
       "    <tr>\n",
       "      <th>...</th>\n",
       "      <td>...</td>\n",
       "      <td>...</td>\n",
       "      <td>...</td>\n",
       "      <td>...</td>\n",
       "    </tr>\n",
       "    <tr>\n",
       "      <th>3666</th>\n",
       "      <td>0</td>\n",
       "      <td>0.0</td>\n",
       "      <td>441</td>\n",
       "      <td>1.000000</td>\n",
       "    </tr>\n",
       "    <tr>\n",
       "      <th>13755</th>\n",
       "      <td>0</td>\n",
       "      <td>0.0</td>\n",
       "      <td>441</td>\n",
       "      <td>1.000000</td>\n",
       "    </tr>\n",
       "    <tr>\n",
       "      <th>30436</th>\n",
       "      <td>0</td>\n",
       "      <td>0.0</td>\n",
       "      <td>441</td>\n",
       "      <td>1.000000</td>\n",
       "    </tr>\n",
       "    <tr>\n",
       "      <th>162194</th>\n",
       "      <td>0</td>\n",
       "      <td>0.0</td>\n",
       "      <td>441</td>\n",
       "      <td>1.000000</td>\n",
       "    </tr>\n",
       "    <tr>\n",
       "      <th>213793</th>\n",
       "      <td>0</td>\n",
       "      <td>0.0</td>\n",
       "      <td>441</td>\n",
       "      <td>1.000000</td>\n",
       "    </tr>\n",
       "    <tr>\n",
       "      <th>228937</th>\n",
       "      <td>0</td>\n",
       "      <td>0.0</td>\n",
       "      <td>441</td>\n",
       "      <td>1.000000</td>\n",
       "    </tr>\n",
       "    <tr>\n",
       "      <th>222478</th>\n",
       "      <td>0</td>\n",
       "      <td>0.0</td>\n",
       "      <td>441</td>\n",
       "      <td>1.000000</td>\n",
       "    </tr>\n",
       "    <tr>\n",
       "      <th>114405</th>\n",
       "      <td>0</td>\n",
       "      <td>0.0</td>\n",
       "      <td>441</td>\n",
       "      <td>1.000000</td>\n",
       "    </tr>\n",
       "    <tr>\n",
       "      <th>192324</th>\n",
       "      <td>0</td>\n",
       "      <td>0.0</td>\n",
       "      <td>441</td>\n",
       "      <td>1.000000</td>\n",
       "    </tr>\n",
       "    <tr>\n",
       "      <th>47409</th>\n",
       "      <td>0</td>\n",
       "      <td>0.0</td>\n",
       "      <td>441</td>\n",
       "      <td>1.000000</td>\n",
       "    </tr>\n",
       "    <tr>\n",
       "      <th>243796</th>\n",
       "      <td>0</td>\n",
       "      <td>0.0</td>\n",
       "      <td>441</td>\n",
       "      <td>1.000000</td>\n",
       "    </tr>\n",
       "    <tr>\n",
       "      <th>138088</th>\n",
       "      <td>0</td>\n",
       "      <td>0.0</td>\n",
       "      <td>441</td>\n",
       "      <td>1.000000</td>\n",
       "    </tr>\n",
       "    <tr>\n",
       "      <th>87540</th>\n",
       "      <td>0</td>\n",
       "      <td>0.0</td>\n",
       "      <td>441</td>\n",
       "      <td>1.000000</td>\n",
       "    </tr>\n",
       "    <tr>\n",
       "      <th>120935</th>\n",
       "      <td>0</td>\n",
       "      <td>0.0</td>\n",
       "      <td>441</td>\n",
       "      <td>1.000000</td>\n",
       "    </tr>\n",
       "    <tr>\n",
       "      <th>64335</th>\n",
       "      <td>0</td>\n",
       "      <td>0.0</td>\n",
       "      <td>441</td>\n",
       "      <td>1.000000</td>\n",
       "    </tr>\n",
       "    <tr>\n",
       "      <th>177533</th>\n",
       "      <td>0</td>\n",
       "      <td>0.0</td>\n",
       "      <td>441</td>\n",
       "      <td>1.000000</td>\n",
       "    </tr>\n",
       "    <tr>\n",
       "      <th>192488</th>\n",
       "      <td>0</td>\n",
       "      <td>0.0</td>\n",
       "      <td>441</td>\n",
       "      <td>1.000000</td>\n",
       "    </tr>\n",
       "    <tr>\n",
       "      <th>97851</th>\n",
       "      <td>0</td>\n",
       "      <td>0.0</td>\n",
       "      <td>441</td>\n",
       "      <td>1.000000</td>\n",
       "    </tr>\n",
       "    <tr>\n",
       "      <th>64287</th>\n",
       "      <td>0</td>\n",
       "      <td>0.0</td>\n",
       "      <td>441</td>\n",
       "      <td>1.000000</td>\n",
       "    </tr>\n",
       "    <tr>\n",
       "      <th>147511</th>\n",
       "      <td>0</td>\n",
       "      <td>0.0</td>\n",
       "      <td>441</td>\n",
       "      <td>1.000000</td>\n",
       "    </tr>\n",
       "    <tr>\n",
       "      <th>114719</th>\n",
       "      <td>0</td>\n",
       "      <td>0.0</td>\n",
       "      <td>441</td>\n",
       "      <td>1.000000</td>\n",
       "    </tr>\n",
       "    <tr>\n",
       "      <th>131595</th>\n",
       "      <td>0</td>\n",
       "      <td>0.0</td>\n",
       "      <td>441</td>\n",
       "      <td>1.000000</td>\n",
       "    </tr>\n",
       "    <tr>\n",
       "      <th>168326</th>\n",
       "      <td>0</td>\n",
       "      <td>0.0</td>\n",
       "      <td>441</td>\n",
       "      <td>1.000000</td>\n",
       "    </tr>\n",
       "    <tr>\n",
       "      <th>37305</th>\n",
       "      <td>0</td>\n",
       "      <td>0.0</td>\n",
       "      <td>441</td>\n",
       "      <td>1.000000</td>\n",
       "    </tr>\n",
       "    <tr>\n",
       "      <th>47512</th>\n",
       "      <td>0</td>\n",
       "      <td>0.0</td>\n",
       "      <td>441</td>\n",
       "      <td>1.000000</td>\n",
       "    </tr>\n",
       "    <tr>\n",
       "      <th>104355</th>\n",
       "      <td>0</td>\n",
       "      <td>0.0</td>\n",
       "      <td>441</td>\n",
       "      <td>1.000000</td>\n",
       "    </tr>\n",
       "    <tr>\n",
       "      <th>47498</th>\n",
       "      <td>0</td>\n",
       "      <td>0.0</td>\n",
       "      <td>441</td>\n",
       "      <td>1.000000</td>\n",
       "    </tr>\n",
       "    <tr>\n",
       "      <th>213580</th>\n",
       "      <td>0</td>\n",
       "      <td>0.0</td>\n",
       "      <td>441</td>\n",
       "      <td>1.000000</td>\n",
       "    </tr>\n",
       "    <tr>\n",
       "      <th>70984</th>\n",
       "      <td>0</td>\n",
       "      <td>0.0</td>\n",
       "      <td>441</td>\n",
       "      <td>1.000000</td>\n",
       "    </tr>\n",
       "    <tr>\n",
       "      <th>221867</th>\n",
       "      <td>0</td>\n",
       "      <td>0.0</td>\n",
       "      <td>441</td>\n",
       "      <td>1.000000</td>\n",
       "    </tr>\n",
       "  </tbody>\n",
       "</table>\n",
       "<p>256326 rows × 4 columns</p>\n",
       "</div>"
      ],
      "text/plain": [
       "        fraud  prediction  fraud_count  fraud_pct_found\n",
       "235818      1         1.0            1         0.002268\n",
       "21765       1         1.0            2         0.004535\n",
       "49735       1         1.0            3         0.006803\n",
       "34395       1         1.0            4         0.009070\n",
       "44372       1         1.0            5         0.011338\n",
       "18784       1         1.0            6         0.013605\n",
       "10122       1         1.0            7         0.015873\n",
       "169658      1         1.0            8         0.018141\n",
       "155382      1         1.0            9         0.020408\n",
       "104598      1         1.0           10         0.022676\n",
       "143561      1         1.0           11         0.024943\n",
       "176252      1         1.0           12         0.027211\n",
       "172511      1         1.0           13         0.029478\n",
       "214770      1         1.0           14         0.031746\n",
       "184339      1         1.0           15         0.034014\n",
       "138409      1         1.0           16         0.036281\n",
       "202258      1         1.0           17         0.038549\n",
       "209494      1         1.0           18         0.040816\n",
       "221835      1         1.0           19         0.043084\n",
       "75708       1         1.0           20         0.045351\n",
       "240847      1         1.0           21         0.047619\n",
       "118043      1         1.0           22         0.049887\n",
       "106287      1         1.0           23         0.052154\n",
       "159158      1         1.0           24         0.054422\n",
       "229576      1         1.0           25         0.056689\n",
       "179466      1         1.0           26         0.058957\n",
       "98143       1         1.0           27         0.061224\n",
       "37495       1         1.0           28         0.063492\n",
       "223114      1         1.0           29         0.065760\n",
       "61581       1         1.0           30         0.068027\n",
       "...       ...         ...          ...              ...\n",
       "3666        0         0.0          441         1.000000\n",
       "13755       0         0.0          441         1.000000\n",
       "30436       0         0.0          441         1.000000\n",
       "162194      0         0.0          441         1.000000\n",
       "213793      0         0.0          441         1.000000\n",
       "228937      0         0.0          441         1.000000\n",
       "222478      0         0.0          441         1.000000\n",
       "114405      0         0.0          441         1.000000\n",
       "192324      0         0.0          441         1.000000\n",
       "47409       0         0.0          441         1.000000\n",
       "243796      0         0.0          441         1.000000\n",
       "138088      0         0.0          441         1.000000\n",
       "87540       0         0.0          441         1.000000\n",
       "120935      0         0.0          441         1.000000\n",
       "64335       0         0.0          441         1.000000\n",
       "177533      0         0.0          441         1.000000\n",
       "192488      0         0.0          441         1.000000\n",
       "97851       0         0.0          441         1.000000\n",
       "64287       0         0.0          441         1.000000\n",
       "147511      0         0.0          441         1.000000\n",
       "114719      0         0.0          441         1.000000\n",
       "131595      0         0.0          441         1.000000\n",
       "168326      0         0.0          441         1.000000\n",
       "37305       0         0.0          441         1.000000\n",
       "47512       0         0.0          441         1.000000\n",
       "104355      0         0.0          441         1.000000\n",
       "47498       0         0.0          441         1.000000\n",
       "213580      0         0.0          441         1.000000\n",
       "70984       0         0.0          441         1.000000\n",
       "221867      0         0.0          441         1.000000\n",
       "\n",
       "[256326 rows x 4 columns]"
      ]
     },
     "execution_count": 86,
     "metadata": {},
     "output_type": "execute_result"
    }
   ],
   "source": [
    "# Normalize our counts to a percent\n",
    "df['fraud_pct_found'] = df['fraud_count']/df['fraud'].sum()\n",
    "\n",
    "\n",
    "df"
   ]
  },
  {
   "cell_type": "code",
   "execution_count": 101,
   "metadata": {
    "collapsed": false
   },
   "outputs": [
    {
     "data": {
      "text/plain": [
       "<matplotlib.axes._subplots.AxesSubplot at 0x1ef5f610940>"
      ]
     },
     "execution_count": 101,
     "metadata": {},
     "output_type": "execute_result"
    },
    {
     "data": {
      "image/png": "[encoded data removed]",
      "text/plain": [
       "<matplotlib.figure.Figure at 0x1ef4d09ecf8>"
      ]
     },
     "metadata": {},
     "output_type": "display_data"
    }
   ],
   "source": [
    "# Double-brackets keeps this as a dataframe, rather than a series\n",
    "fraud_plot = df[['fraud_pct_found']].copy()\n",
    "\n",
    "fraud_plot.index = np.arange(len(fraud_plot))/len(fraud_plot)\n",
    "\n",
    "# Build our straight line for random chance\n",
    "fraud_plot['chance'] = np.arange(len(fraud_plot))/len(fraud_plot)\n",
    "\n",
    "fraud_plot.plot()"
   ]
  },
  {
   "cell_type": "markdown",
   "metadata": {},
   "source": [
    "Area under the curve *represents that area under the curve!* Cool, huh?\n",
    "\n",
    "Let me show you another reason AUC is such a powerful metric.\n",
    "\n",
    "Since 99.8% of our transactions are legit, we'd obtain amazing accuracy just by always predicting a zero.\n",
    "\n",
    "But what would that graph look like?\n",
    "\n",
    "...\n",
    "\n",
    "If you said it's essentially $y = 0$, then you're absolutely right. And the AUC score for that would be... zero!\n",
    "\n",
    "Conversely, if we always predict fraud, then we get that straight line of $y = x$. The AUC score for that is 0.50. So anything above 0.50 is an indication that your model is learning.\n",
    "\n",
    "And it's only by balancing false positives and true positives that we get rewarded with a high score.\n",
    "\n",
    "Here are some more rules of thumb for interpreting your AUC score:\n",
    "\n",
    "- Below 0.50: Worse than random chance. Delete Python immediately.\n",
    "- 0.50 - 0.60: Not that great, but better than chance at least.\n",
    "- 0.60 - 0.70: Okay/Good.\n",
    "- 0.70 - 0.80: Good/Really good.\n",
    "- 0.80 - 0.90: Excellent.\n",
    "- 0.90 and above: Too good. Your model is probably leaking data and cheating. Or maybe you found a dataset with fake/synthetic data."
   ]
  },
  {
   "cell_type": "code",
   "execution_count": 124,
   "metadata": {
    "collapsed": false
   },
   "outputs": [
    {
     "data": {
      "text/plain": [
       "0.9636792810687412"
      ]
     },
     "execution_count": 124,
     "metadata": {},
     "output_type": "execute_result"
    }
   ],
   "source": [
    "preds_test = clf.predict_proba(xtest)\n",
    "\n",
    "from sklearn.metrics import roc_auc_score\n",
    "\n",
    "# Don't forget, you need the 2nd value (index 1) of each pair\n",
    "preds_test = preds_test[:, 1]\n",
    "\n",
    "roc_auc_score(ytest, preds_test)"
   ]
  },
  {
   "cell_type": "markdown",
   "metadata": {},
   "source": [
    "Our score here is above 0.90. I think we really lucked out here and found a problem that lends itself extremely well to machine learning. I can't find any irregularities that would lead to an abnormally high score. So we'll assume we just did a really good job. :)"
   ]
  },
  {
   "cell_type": "markdown",
   "metadata": {},
   "source": [
    "# TPOT\n",
    "\n",
    "`pip install tpot`"
   ]
  },
  {
   "cell_type": "markdown",
   "metadata": {},
   "source": [
    "TPOT is a library that automatically runs grid search for you! It uses a \"genetic\" algorithm to let the best model \"evolve\" over successive generations -- pretty much the same thing we did earlier with successive grid searches.\n",
    "\n",
    "We've already scored our testing data, so consider this section a bonus tutorial. You're not allowed to tune your model after scoring it on test data!"
   ]
  },
  {
   "cell_type": "code",
   "execution_count": 126,
   "metadata": {
    "collapsed": false
   },
   "outputs": [
    {
     "name": "stdout",
     "output_type": "stream",
     "text": [
      "Generation 1 - Current best internal CV score: 0.9994928334211053\n",
      "Generation 2 - Current best internal CV score: 0.9994928334211053\n",
      "\n",
      "Best pipeline: ExtraTreesClassifier(input_matrix, bootstrap=False, criterion=gini, max_features=0.15000000000000002, min_samples_leaf=3, min_samples_split=2, n_estimators=100)\n"
     ]
    },
    {
     "data": {
      "text/plain": [
       "TPOTClassifier(config_dict=None, crossover_rate=0.1, cv=5,\n",
       "        disable_update_check=False, early_stop=None, generations=2,\n",
       "        max_eval_time_mins=5, max_time_mins=None, memory=None,\n",
       "        mutation_rate=0.9, n_jobs=1, offspring_size=None,\n",
       "        periodic_checkpoint_folder=None, population_size=10,\n",
       "        random_state=None, scoring=None, subsample=1.0, use_dask=False,\n",
       "        verbosity=2, warm_start=False)"
      ]
     },
     "execution_count": 126,
     "metadata": {},
     "output_type": "execute_result"
    }
   ],
   "source": [
    "from tpot import TPOTClassifier\n",
    "\n",
    "# Very modest settings since our dataset is huge\n",
    "# and this will take a long time.\n",
    "tpot = TPOTClassifier(population_size=10, generations=2, verbosity=2)\n",
    "\n",
    "tpot.fit(xtrain, ytrain)"
   ]
  },
  {
   "cell_type": "code",
   "execution_count": 127,
   "metadata": {
    "collapsed": true
   },
   "outputs": [],
   "source": [
    "# You can export/save your model's settings:\n",
    "tpot.export('fraud_classifier.py')"
   ]
  },
  {
   "cell_type": "code",
   "execution_count": 129,
   "metadata": {
    "collapsed": false
   },
   "outputs": [],
   "source": [
    "from sklearn.ensemble import ExtraTreesClassifier\n",
    "\n",
    "# Look above -- it printed this out\n",
    "clf_tpot = ExtraTreesClassifier(\n",
    "    bootstrap=False, criterion=\"gini\",\n",
    "    max_features=0.15000000000000002, min_samples_leaf=3,\n",
    "    min_samples_split=2, n_estimators=100\n",
    ")"
   ]
  },
  {
   "cell_type": "code",
   "execution_count": 130,
   "metadata": {
    "collapsed": false
   },
   "outputs": [
    {
     "name": "stdout",
     "output_type": "stream",
     "text": [
      "TPOT CROSS VALIDATION\n",
      "*********************\n",
      "Mean score: 0.9672888843209002\n",
      "Std dev: 0.01334377376091794\n"
     ]
    }
   ],
   "source": [
    "cvs = cross_val_score(clf_tpot, xtrain, ytrain, cv=kf, scoring='roc_auc')\n",
    "\n",
    "print('TPOT CROSS VALIDATION')\n",
    "print('*********************')\n",
    "print('Mean score:', cvs.mean())\n",
    "print('Std dev:', cvs.std())"
   ]
  },
  {
   "cell_type": "markdown",
   "metadata": {},
   "source": [
    "That's pretty darn good! Funny how our logistic regression with no tuning is still the best model, though. ML can be unpredictable!\n",
    "\n",
    "One last thing: XGBoost is super powerful but it's a pain in the butt to install. Maybe I'll go over how to do it."
   ]
  },
  {
   "cell_type": "code",
   "execution_count": 13,
   "metadata": {
    "collapsed": true
   },
   "outputs": [],
   "source": [
    "from xgboost import XGBClassifier"
   ]
  },
  {
   "cell_type": "code",
   "execution_count": 17,
   "metadata": {
    "collapsed": false
   },
   "outputs": [
    {
     "data": {
      "text/plain": [
       "XGBClassifier(base_score=0.5, booster='gbtree', colsample_bylevel=1,\n",
       "       colsample_bytree=1, gamma=0, learning_rate=0.1, max_delta_step=0,\n",
       "       max_depth=2, min_child_weight=1, missing=None, n_estimators=200,\n",
       "       n_jobs=1, nthread=1, objective='binary:logistic', random_state=0,\n",
       "       reg_alpha=0, reg_lambda=1, scale_pos_weight=1, seed=0, silent=True,\n",
       "       subsample=1)"
      ]
     },
     "execution_count": 17,
     "metadata": {},
     "output_type": "execute_result"
    }
   ],
   "source": [
    "from sklearn.model_selection import GridSearchCV\n",
    "\n",
    "# Using 3 splits because it's soooo slow\n",
    "kf3 = StratifiedKFold(n_splits=3)\n",
    "xg = XGBClassifier()\n",
    "\n",
    "param_grid = {\n",
    "    'max_depth': [2,3],\n",
    "    'n_estimators': [200]\n",
    "}\n",
    "\n",
    "grid = GridSearchCV(xg, param_grid=param_grid, cv=kf3, scoring='roc_auc').fit(xtrain, ytrain)\n",
    "\n",
    "clf = grid.best_estimator_\n",
    "\n",
    "clf"
   ]
  },
  {
   "cell_type": "code",
   "execution_count": 18,
   "metadata": {
    "collapsed": false
   },
   "outputs": [
    {
     "name": "stdout",
     "output_type": "stream",
     "text": [
      "GRID SEARCH XGBOOST\n",
      "*************\n",
      "Mean score: 0.9821071458680114\n",
      "Std dev: 0.009300152954796609\n"
     ]
    }
   ],
   "source": [
    "from sklearn.model_selection import cross_val_score\n",
    "\n",
    "cvs = cross_val_score(clf, xtrain, ytrain, cv=kf, scoring='roc_auc')\n",
    "\n",
    "print('GRID SEARCH XGBOOST')\n",
    "print('*************')\n",
    "print('Mean score:', cvs.mean())\n",
    "print('Std dev:', cvs.std())"
   ]
  }
 ],
 "metadata": {
  "kernelspec": {
   "display_name": "Python 3",
   "language": "python",
   "name": "python3"
  },
  "language_info": {
   "codemirror_mode": {
    "name": "ipython",
    "version": 3
   },
   "file_extension": ".py",
   "mimetype": "text/x-python",
   "name": "python",
   "nbconvert_exporter": "python",
   "pygments_lexer": "ipython3",
   "version": "3.6.0"
  }
 },
 "nbformat": 4,
 "nbformat_minor": 2
}
